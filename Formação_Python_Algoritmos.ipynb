{
  "nbformat": 4,
  "nbformat_minor": 0,
  "metadata": {
    "colab": {
      "name": "Formação Python Algoritmos.ipynb",
      "provenance": [],
      "include_colab_link": true
    },
    "kernelspec": {
      "name": "python3",
      "display_name": "Python 3"
    }
  },
  "cells": [
    {
      "cell_type": "markdown",
      "metadata": {
        "id": "view-in-github",
        "colab_type": "text"
      },
      "source": [
        "<a href=\"https://colab.research.google.com/github/profmaddo/formacao-python-algoritmos/blob/master/Forma%C3%A7%C3%A3o_Python_Algoritmos.ipynb\" target=\"_parent\"><img src=\"https://colab.research.google.com/assets/colab-badge.svg\" alt=\"Open In Colab\"/></a>"
      ]
    },
    {
      "cell_type": "code",
      "metadata": {
        "id": "UTxawnvToyL9",
        "colab_type": "code",
        "colab": {
          "base_uri": "https://localhost:8080/",
          "height": 85
        },
        "outputId": "fb211732-2fa5-427b-9e36-5a01e69d6efc"
      },
      "source": [
        "# Escrever um algoritmo que receba o valor com o preço da gasolina e do ethanol.\n",
        "# Calcule a diferença de valores entre ethanol e gasolina\n",
        "# Se o resultado for inferior a 0,7, o derivado da cana-de-açúcar é o melhor para abastecer.\n",
        "# Se o resultado for maior que 0,7, então a gasolina é melhor.\n",
        "\n",
        "precoEthanol  = float(input(\"Digite o preço do Ethanol    : \"))\n",
        "precoGasolina = float(input(\"Digite o preço do Gasolina   : \"))\n",
        "\n",
        "diferenca = 0.00\n",
        "\n",
        "if(precoGasolina > 0):\n",
        "  diferenca = precoEthanol / precoGasolina\n",
        "  print(\"A diferença entre Ethanol x Gasolina é: \", diferenca)\n",
        "  if(diferenca<0.7):\n",
        "    print(\"Abasteça com Ethanol\")\n",
        "  else:\n",
        "    print(\"Abasteça com Gasolina\")\n",
        "else:\n",
        "  print(\"Informe todo os dados.\")\n",
        "\n",
        "\n",
        "\n",
        "\n",
        "\n"
      ],
      "execution_count": 13,
      "outputs": [
        {
          "output_type": "stream",
          "text": [
            "Digite o preço do Ethanol    : 3.55\n",
            "Digite o preço do Gasolina   : 4.75\n",
            "A diferença entre Ethanol x Gasolina é:  0.7473684210526316\n",
            "Abasteça com Gasolina\n"
          ],
          "name": "stdout"
        }
      ]
    }
  ]
}