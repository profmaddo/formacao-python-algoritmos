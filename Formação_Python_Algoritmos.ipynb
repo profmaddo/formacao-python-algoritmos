{
  "nbformat": 4,
  "nbformat_minor": 0,
  "metadata": {
    "colab": {
      "name": "Formação Python Algoritmos.ipynb",
      "provenance": [],
      "include_colab_link": true
    },
    "kernelspec": {
      "name": "python3",
      "display_name": "Python 3"
    }
  },
  "cells": [
    {
      "cell_type": "markdown",
      "metadata": {
        "id": "view-in-github",
        "colab_type": "text"
      },
      "source": [
        "<a href=\"https://colab.research.google.com/github/profmaddo/formacao-python-algoritmos/blob/master/Forma%C3%A7%C3%A3o_Python_Algoritmos.ipynb\" target=\"_parent\"><img src=\"https://colab.research.google.com/assets/colab-badge.svg\" alt=\"Open In Colab\"/></a>"
      ]
    },
    {
      "cell_type": "code",
      "metadata": {
        "id": "UTxawnvToyL9",
        "colab_type": "code",
        "colab": {}
      },
      "source": [
        "# Escrever um algoritmo que receba o valor com o preço da gasolina e do ethanol.\n",
        "# Calcule a diferença de valores entre ethanol e gasolina\n",
        "# Se o resultado for inferior a 0,7, o derivado da cana-de-açúcar é o melhor para abastecer.\n",
        "# Se o resultado for maior que 0,7, então a gasolina é melhor.\n",
        "\n",
        "precoEthanol  = float(input(\"Digite o preço do Ethanol    : \"))\n",
        "precoGasolina = float(input(\"Digite o preço do Gasolina   : \"))\n",
        "\n",
        "diferenca = 0.00\n",
        "\n",
        "if(precoGasolina > 0):\n",
        "  diferenca = precoEthanol / precoGasolina\n",
        "  print(\"A diferença entre Ethanol x Gasolina é: \", diferenca)\n",
        "  if(diferenca<0.7):\n",
        "    print(\"Abasteça com Ethanol\")\n",
        "  else:\n",
        "    print(\"Abasteça com Gasolina\")\n",
        "else:\n",
        "  print(\"Informe todo os dados.\")"
      ],
      "execution_count": 0,
      "outputs": []
    },
    {
      "cell_type": "code",
      "metadata": {
        "id": "vI00a-heaoa3",
        "colab_type": "code",
        "colab": {}
      },
      "source": [
        "# Entrada de Dados - Tipo do Dado\n",
        "# Escreva um programa em Python que receba dois números inteiros\n",
        "# Processamento - cálculo - dados que estão em memória\n",
        "# E calcular a diferença entre o valor do primeiro número em relação\n",
        "# ao segundo número\n",
        "# processamento - cálculo\n",
        "# e em seguida apresente o seu sucessor e antecessor\n",
        "\n",
        "# Declaracao de Variaveis\n",
        "diferenca = 0\n",
        "sucessor = 0\n",
        "antecessor = 0\n",
        "valorA = 0\n",
        "valorB = 0\n",
        "\n",
        "# Entrada de Dados\n",
        "valorA = int(input(\"Valor de A? \"))\n",
        "valorB = int(input(\"Valor de B? \"))\n",
        "\n",
        "diferenca = valorA - valorB\n",
        "\n",
        "sucessor = diferenca + 1\n",
        "antecessor = diferenca - 1\n",
        "\n",
        "print(\"Valor A, Valor B: \",valorA, valorB)\n",
        "\n",
        "print(\"Diferença: \", diferenca)\n",
        "print(\"Sucessor, Antecessor: \", sucessor, antecessor)"
      ],
      "execution_count": 0,
      "outputs": []
    }
  ]
}