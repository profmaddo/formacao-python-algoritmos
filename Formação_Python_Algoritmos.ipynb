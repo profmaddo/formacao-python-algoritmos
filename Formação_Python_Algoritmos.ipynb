{
  "nbformat": 4,
  "nbformat_minor": 0,
  "metadata": {
    "colab": {
      "name": "Formação Python Algoritmos.ipynb",
      "provenance": [],
      "include_colab_link": true
    },
    "kernelspec": {
      "name": "python3",
      "display_name": "Python 3"
    }
  },
  "cells": [
    {
      "cell_type": "markdown",
      "metadata": {
        "id": "view-in-github",
        "colab_type": "text"
      },
      "source": [
        "<a href=\"https://colab.research.google.com/github/profmaddo/formacao-python-algoritmos/blob/master/Forma%C3%A7%C3%A3o_Python_Algoritmos.ipynb\" target=\"_parent\"><img src=\"https://colab.research.google.com/assets/colab-badge.svg\" alt=\"Open In Colab\"/></a>"
      ]
    },
    {
      "cell_type": "code",
      "metadata": {
        "id": "UTxawnvToyL9",
        "colab_type": "code",
        "colab": {}
      },
      "source": [
        "# Escrever um algoritmo que receba o valor com o preço da gasolina e do ethanol.\n",
        "# Calcule a diferença de valores entre ethanol e gasolina\n",
        "# Se o resultado for inferior a 0,7, o derivado da cana-de-açúcar é o melhor para abastecer.\n",
        "# Se o resultado for maior que 0,7, então a gasolina é melhor."
      ],
      "execution_count": 0,
      "outputs": []
    }
  ]
}